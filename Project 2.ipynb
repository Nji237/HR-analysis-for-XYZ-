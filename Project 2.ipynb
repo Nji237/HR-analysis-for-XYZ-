{
 "cells": [
  {
   "cell_type": "markdown",
   "id": "5bad3abc",
   "metadata": {},
   "source": [
    "# <center>Project 2</center>"
   ]
  },
  {
   "cell_type": "markdown",
   "id": "51b5ae47",
   "metadata": {},
   "source": [
    "<b>Imports</b>"
   ]
  },
  {
   "cell_type": "code",
   "execution_count": 2,
   "id": "f01962e5",
   "metadata": {},
   "outputs": [
    {
     "name": "stdout",
     "output_type": "stream",
     "text": [
      "done\n"
     ]
    }
   ],
   "source": [
    "import pandas as pd \n",
    "import matplotlib as mlt\n",
    "import matplotlib.pyplot as plt\n",
    "import seaborn as sns\n",
    "import csv\n",
    "print(\"done\")"
   ]
  },
  {
   "cell_type": "code",
   "execution_count": 3,
   "id": "c4afa99a",
   "metadata": {},
   "outputs": [
    {
     "data": {
      "text/html": [
       "<div>\n",
       "<style scoped>\n",
       "    .dataframe tbody tr th:only-of-type {\n",
       "        vertical-align: middle;\n",
       "    }\n",
       "\n",
       "    .dataframe tbody tr th {\n",
       "        vertical-align: top;\n",
       "    }\n",
       "\n",
       "    .dataframe thead th {\n",
       "        text-align: right;\n",
       "    }\n",
       "</style>\n",
       "<table border=\"1\" class=\"dataframe\">\n",
       "  <thead>\n",
       "    <tr style=\"text-align: right;\">\n",
       "      <th></th>\n",
       "      <th>Employee_Name</th>\n",
       "      <th>EmpID</th>\n",
       "      <th>MarriedID</th>\n",
       "      <th>MaritalStatusID</th>\n",
       "      <th>GenderID</th>\n",
       "      <th>EmpStatusID</th>\n",
       "      <th>DeptID</th>\n",
       "      <th>PerfScoreID</th>\n",
       "      <th>FromDiversityJobFairID</th>\n",
       "      <th>Salary</th>\n",
       "      <th>...</th>\n",
       "      <th>ManagerName</th>\n",
       "      <th>ManagerID</th>\n",
       "      <th>RecruitmentSource</th>\n",
       "      <th>PerformanceScore</th>\n",
       "      <th>EngagementSurvey</th>\n",
       "      <th>EmpSatisfaction</th>\n",
       "      <th>SpecialProjectsCount</th>\n",
       "      <th>LastPerformanceReview_Date</th>\n",
       "      <th>DaysLateLast30</th>\n",
       "      <th>Absences</th>\n",
       "    </tr>\n",
       "  </thead>\n",
       "  <tbody>\n",
       "    <tr>\n",
       "      <th>0</th>\n",
       "      <td>Adinolfi, Wilson  K</td>\n",
       "      <td>10026</td>\n",
       "      <td>0</td>\n",
       "      <td>0</td>\n",
       "      <td>1</td>\n",
       "      <td>1</td>\n",
       "      <td>5</td>\n",
       "      <td>4</td>\n",
       "      <td>0</td>\n",
       "      <td>62506</td>\n",
       "      <td>...</td>\n",
       "      <td>Michael Albert</td>\n",
       "      <td>22.0</td>\n",
       "      <td>LinkedIn</td>\n",
       "      <td>Exceeds</td>\n",
       "      <td>4.60</td>\n",
       "      <td>5</td>\n",
       "      <td>0</td>\n",
       "      <td>1/17/2019</td>\n",
       "      <td>0</td>\n",
       "      <td>1</td>\n",
       "    </tr>\n",
       "    <tr>\n",
       "      <th>1</th>\n",
       "      <td>Ait Sidi, Karthikeyan</td>\n",
       "      <td>10084</td>\n",
       "      <td>1</td>\n",
       "      <td>1</td>\n",
       "      <td>1</td>\n",
       "      <td>5</td>\n",
       "      <td>3</td>\n",
       "      <td>3</td>\n",
       "      <td>0</td>\n",
       "      <td>104437</td>\n",
       "      <td>...</td>\n",
       "      <td>Simon Roup</td>\n",
       "      <td>4.0</td>\n",
       "      <td>Indeed</td>\n",
       "      <td>Fully Meets</td>\n",
       "      <td>4.96</td>\n",
       "      <td>3</td>\n",
       "      <td>6</td>\n",
       "      <td>2/24/2016</td>\n",
       "      <td>0</td>\n",
       "      <td>17</td>\n",
       "    </tr>\n",
       "    <tr>\n",
       "      <th>2</th>\n",
       "      <td>Akinkuolie, Sarah</td>\n",
       "      <td>10196</td>\n",
       "      <td>1</td>\n",
       "      <td>1</td>\n",
       "      <td>0</td>\n",
       "      <td>5</td>\n",
       "      <td>5</td>\n",
       "      <td>3</td>\n",
       "      <td>0</td>\n",
       "      <td>64955</td>\n",
       "      <td>...</td>\n",
       "      <td>Kissy Sullivan</td>\n",
       "      <td>20.0</td>\n",
       "      <td>LinkedIn</td>\n",
       "      <td>Fully Meets</td>\n",
       "      <td>3.02</td>\n",
       "      <td>3</td>\n",
       "      <td>0</td>\n",
       "      <td>5/15/2012</td>\n",
       "      <td>0</td>\n",
       "      <td>3</td>\n",
       "    </tr>\n",
       "    <tr>\n",
       "      <th>3</th>\n",
       "      <td>Alagbe,Trina</td>\n",
       "      <td>10088</td>\n",
       "      <td>1</td>\n",
       "      <td>1</td>\n",
       "      <td>0</td>\n",
       "      <td>1</td>\n",
       "      <td>5</td>\n",
       "      <td>3</td>\n",
       "      <td>0</td>\n",
       "      <td>64991</td>\n",
       "      <td>...</td>\n",
       "      <td>Elijiah Gray</td>\n",
       "      <td>16.0</td>\n",
       "      <td>Indeed</td>\n",
       "      <td>Fully Meets</td>\n",
       "      <td>4.84</td>\n",
       "      <td>5</td>\n",
       "      <td>0</td>\n",
       "      <td>01-03-2019</td>\n",
       "      <td>0</td>\n",
       "      <td>15</td>\n",
       "    </tr>\n",
       "    <tr>\n",
       "      <th>4</th>\n",
       "      <td>Anderson, Carol</td>\n",
       "      <td>10069</td>\n",
       "      <td>0</td>\n",
       "      <td>2</td>\n",
       "      <td>0</td>\n",
       "      <td>5</td>\n",
       "      <td>5</td>\n",
       "      <td>3</td>\n",
       "      <td>0</td>\n",
       "      <td>50825</td>\n",
       "      <td>...</td>\n",
       "      <td>Webster Butler</td>\n",
       "      <td>39.0</td>\n",
       "      <td>Google Search</td>\n",
       "      <td>Fully Meets</td>\n",
       "      <td>5.00</td>\n",
       "      <td>4</td>\n",
       "      <td>0</td>\n",
       "      <td>02-01-2016</td>\n",
       "      <td>0</td>\n",
       "      <td>2</td>\n",
       "    </tr>\n",
       "  </tbody>\n",
       "</table>\n",
       "<p>5 rows × 35 columns</p>\n",
       "</div>"
      ],
      "text/plain": [
       "              Employee_Name  EmpID  MarriedID  MaritalStatusID  GenderID  \\\n",
       "0       Adinolfi, Wilson  K  10026          0                0         1   \n",
       "1  Ait Sidi, Karthikeyan     10084          1                1         1   \n",
       "2         Akinkuolie, Sarah  10196          1                1         0   \n",
       "3              Alagbe,Trina  10088          1                1         0   \n",
       "4          Anderson, Carol   10069          0                2         0   \n",
       "\n",
       "   EmpStatusID  DeptID  PerfScoreID  FromDiversityJobFairID  Salary  ...  \\\n",
       "0            1       5            4                       0   62506  ...   \n",
       "1            5       3            3                       0  104437  ...   \n",
       "2            5       5            3                       0   64955  ...   \n",
       "3            1       5            3                       0   64991  ...   \n",
       "4            5       5            3                       0   50825  ...   \n",
       "\n",
       "      ManagerName  ManagerID RecruitmentSource PerformanceScore  \\\n",
       "0  Michael Albert       22.0          LinkedIn          Exceeds   \n",
       "1      Simon Roup        4.0            Indeed      Fully Meets   \n",
       "2  Kissy Sullivan       20.0          LinkedIn      Fully Meets   \n",
       "3    Elijiah Gray       16.0            Indeed      Fully Meets   \n",
       "4  Webster Butler       39.0     Google Search      Fully Meets   \n",
       "\n",
       "   EngagementSurvey EmpSatisfaction SpecialProjectsCount  \\\n",
       "0              4.60               5                    0   \n",
       "1              4.96               3                    6   \n",
       "2              3.02               3                    0   \n",
       "3              4.84               5                    0   \n",
       "4              5.00               4                    0   \n",
       "\n",
       "  LastPerformanceReview_Date DaysLateLast30 Absences  \n",
       "0                  1/17/2019              0        1  \n",
       "1                  2/24/2016              0       17  \n",
       "2                  5/15/2012              0        3  \n",
       "3                 01-03-2019              0       15  \n",
       "4                 02-01-2016              0        2  \n",
       "\n",
       "[5 rows x 35 columns]"
      ]
     },
     "execution_count": 3,
     "metadata": {},
     "output_type": "execute_result"
    }
   ],
   "source": [
    "df = pd.read_csv(\"HRDataset_v14.csv\")\n",
    "df.head()"
   ]
  },
  {
   "cell_type": "code",
   "execution_count": 4,
   "id": "737da3dc",
   "metadata": {},
   "outputs": [
    {
     "data": {
      "text/plain": [
       "(311, 35)"
      ]
     },
     "execution_count": 4,
     "metadata": {},
     "output_type": "execute_result"
    }
   ],
   "source": [
    "df.shape"
   ]
  },
  {
   "cell_type": "code",
   "execution_count": 5,
   "id": "52a9ab2e",
   "metadata": {},
   "outputs": [
    {
     "data": {
      "text/plain": [
       "Employee_Name                 0\n",
       "EmpID                         0\n",
       "MarriedID                     0\n",
       "MaritalStatusID               0\n",
       "GenderID                      0\n",
       "EmpStatusID                   0\n",
       "DeptID                        0\n",
       "PerfScoreID                   0\n",
       "FromDiversityJobFairID        0\n",
       "Salary                        0\n",
       "Termd                         0\n",
       "PositionID                    0\n",
       "Position                      0\n",
       "State                         0\n",
       "Zip                           0\n",
       "DOB                           0\n",
       "Sex                           0\n",
       "MaritalDesc                   0\n",
       "CitizenDesc                   0\n",
       "HispanicLatino                0\n",
       "DateofHire                    0\n",
       "DateofHire.1                  0\n",
       "TermReason                    0\n",
       "EmploymentStatus              0\n",
       "Department                    0\n",
       "ManagerName                   0\n",
       "ManagerID                     8\n",
       "RecruitmentSource             0\n",
       "PerformanceScore              0\n",
       "EngagementSurvey              0\n",
       "EmpSatisfaction               0\n",
       "SpecialProjectsCount          0\n",
       "LastPerformanceReview_Date    0\n",
       "DaysLateLast30                0\n",
       "Absences                      0\n",
       "dtype: int64"
      ]
     },
     "execution_count": 5,
     "metadata": {},
     "output_type": "execute_result"
    }
   ],
   "source": [
    "#checking for null values \n",
    "df.isnull().sum()"
   ]
  },
  {
   "cell_type": "code",
   "execution_count": 6,
   "id": "40520c34",
   "metadata": {},
   "outputs": [
    {
     "data": {
      "text/html": [
       "<div>\n",
       "<style scoped>\n",
       "    .dataframe tbody tr th:only-of-type {\n",
       "        vertical-align: middle;\n",
       "    }\n",
       "\n",
       "    .dataframe tbody tr th {\n",
       "        vertical-align: top;\n",
       "    }\n",
       "\n",
       "    .dataframe thead th {\n",
       "        text-align: right;\n",
       "    }\n",
       "</style>\n",
       "<table border=\"1\" class=\"dataframe\">\n",
       "  <thead>\n",
       "    <tr style=\"text-align: right;\">\n",
       "      <th></th>\n",
       "      <th>Salary</th>\n",
       "      <th>SpecialProjectsCount</th>\n",
       "      <th>EngagementSurvey</th>\n",
       "      <th>DaysLateLast30</th>\n",
       "      <th>Absences</th>\n",
       "    </tr>\n",
       "  </thead>\n",
       "  <tbody>\n",
       "    <tr>\n",
       "      <th>count</th>\n",
       "      <td>311.0</td>\n",
       "      <td>311.0</td>\n",
       "      <td>311.0</td>\n",
       "      <td>311.0</td>\n",
       "      <td>311.0</td>\n",
       "    </tr>\n",
       "    <tr>\n",
       "      <th>mean</th>\n",
       "      <td>69021.0</td>\n",
       "      <td>1.0</td>\n",
       "      <td>4.0</td>\n",
       "      <td>0.0</td>\n",
       "      <td>10.0</td>\n",
       "    </tr>\n",
       "    <tr>\n",
       "      <th>std</th>\n",
       "      <td>25157.0</td>\n",
       "      <td>2.0</td>\n",
       "      <td>1.0</td>\n",
       "      <td>1.0</td>\n",
       "      <td>6.0</td>\n",
       "    </tr>\n",
       "    <tr>\n",
       "      <th>min</th>\n",
       "      <td>45046.0</td>\n",
       "      <td>0.0</td>\n",
       "      <td>1.0</td>\n",
       "      <td>0.0</td>\n",
       "      <td>1.0</td>\n",
       "    </tr>\n",
       "    <tr>\n",
       "      <th>25%</th>\n",
       "      <td>55502.0</td>\n",
       "      <td>0.0</td>\n",
       "      <td>4.0</td>\n",
       "      <td>0.0</td>\n",
       "      <td>5.0</td>\n",
       "    </tr>\n",
       "    <tr>\n",
       "      <th>50%</th>\n",
       "      <td>62810.0</td>\n",
       "      <td>0.0</td>\n",
       "      <td>4.0</td>\n",
       "      <td>0.0</td>\n",
       "      <td>10.0</td>\n",
       "    </tr>\n",
       "    <tr>\n",
       "      <th>75%</th>\n",
       "      <td>72036.0</td>\n",
       "      <td>0.0</td>\n",
       "      <td>5.0</td>\n",
       "      <td>0.0</td>\n",
       "      <td>15.0</td>\n",
       "    </tr>\n",
       "    <tr>\n",
       "      <th>max</th>\n",
       "      <td>250000.0</td>\n",
       "      <td>8.0</td>\n",
       "      <td>5.0</td>\n",
       "      <td>6.0</td>\n",
       "      <td>20.0</td>\n",
       "    </tr>\n",
       "  </tbody>\n",
       "</table>\n",
       "</div>"
      ],
      "text/plain": [
       "         Salary  SpecialProjectsCount  EngagementSurvey  DaysLateLast30  \\\n",
       "count     311.0                 311.0             311.0           311.0   \n",
       "mean    69021.0                   1.0               4.0             0.0   \n",
       "std     25157.0                   2.0               1.0             1.0   \n",
       "min     45046.0                   0.0               1.0             0.0   \n",
       "25%     55502.0                   0.0               4.0             0.0   \n",
       "50%     62810.0                   0.0               4.0             0.0   \n",
       "75%     72036.0                   0.0               5.0             0.0   \n",
       "max    250000.0                   8.0               5.0             6.0   \n",
       "\n",
       "       Absences  \n",
       "count     311.0  \n",
       "mean       10.0  \n",
       "std         6.0  \n",
       "min         1.0  \n",
       "25%         5.0  \n",
       "50%        10.0  \n",
       "75%        15.0  \n",
       "max        20.0  "
      ]
     },
     "execution_count": 6,
     "metadata": {},
     "output_type": "execute_result"
    }
   ],
   "source": [
    "df[['Salary','SpecialProjectsCount','EngagementSurvey','DaysLateLast30','Absences']].describe().round()"
   ]
  },
  {
   "cell_type": "markdown",
   "id": "2e612f3f",
   "metadata": {},
   "source": [
    "State the average of the salaries \n",
    "average salary in the company \n",
    "highest salary \n",
    "lowest saslary "
   ]
  },
  {
   "cell_type": "markdown",
   "id": "c76c74c0",
   "metadata": {},
   "source": [
    "#count of unique values for MaritalDesc, gender , position ,department, recruitmentsource, CitizenDesc\n",
    "The most paid employee earns = 250,000\n",
    "The least paid employee earns = 45,046\n",
    "On average employees at xyz earn 69,021\n"
   ]
  },
  {
   "cell_type": "markdown",
   "id": "3733a2d5",
   "metadata": {},
   "source": [
    "<b>Which is the most efficient department you find from your study.</b>"
   ]
  },
  {
   "cell_type": "code",
   "execution_count": null,
   "id": "42a01252",
   "metadata": {},
   "outputs": [],
   "source": []
  },
  {
   "cell_type": "markdown",
   "id": "9f0bbf51",
   "metadata": {},
   "source": [
    "#Group by department and sum performance score \n",
    "\n",
    "# Calculate the average performance score by department\n",
    "department_performance = df.groupby('DeptID')['PerfScoreID'].sum()\n",
    "Department = df['DeptID']\n",
    "\n",
    "Performance_score\n",
    "plt.figure(figsize=(8, 6))\n",
    "plt.bar(Department,department_performance, alpha=0.5)\n",
    "\n",
    "plt.xlabel(\"Department\")\n",
    "plt.ylabel(\"Performance score for each deparment\" )\n",
    "plt.title(\"Barchat displaying the efficiency of each department\")\n",
    "\n",
    "plt.grid(False)\n",
    "plt.show()"
   ]
  },
  {
   "cell_type": "markdown",
   "id": "5e5ff433",
   "metadata": {},
   "source": [
    "<b>Bar Plot for Marital Status:</b>"
   ]
  },
  {
   "cell_type": "code",
   "execution_count": 16,
   "id": "03e7bf41",
   "metadata": {},
   "outputs": [
    {
     "data": {
      "text/plain": [
       "<AxesSubplot:xlabel='Salary', ylabel='Count'>"
      ]
     },
     "execution_count": 16,
     "metadata": {},
     "output_type": "execute_result"
    },
    {
     "data": {
      "image/png": "[encoded data removed]",
      "text/plain": [
       "<Figure size 1152x432 with 2 Axes>"
      ]
     },
     "metadata": {
      "needs_background": "light"
     },
     "output_type": "display_data"
    }
   ],
   "source": [
    "Marital_status = df['MaritalDesc'].value_counts()\n",
    "plt.figure(figsize=(16, 6))\n",
    "\n",
    "#plt.subplot(1,2,1)\n",
    "#sns.histplot(df['Salary'])\n",
    "#plt.bar(Marital_status.index, Marital_status.values)\n",
    "#plt.xlabel('Marital Status')\n",
    "#plt.ylabel('Count')\n",
    "#plt.title('Marital Status Distribution')\n",
    "#plt.xticks(rotation=45)  \n",
    "\n",
    "\n",
    "#plt.subplot(1,2,2)\n",
    "#sns.histplot(df['Salary'])\n",
    "#plt.scatter(df['Salary'], df['EmpSatisfaction'], c=\"blue\")\n",
    "#plt.xlabel('Salary')\n",
    "#plt.ylabel('Engagement Survey')\n",
    "#plt.title('Salary vs. Engagement Survey')\n",
    "\n",
    "plt.subplot(1,2,1)\n",
    "sns.histplot(df['Salary'], kde=True)\n",
    "\n",
    "plt.subplot(1,2,2)\n",
    "sns.histplot(df['Salary'], kde=True)"
   ]
  },
  {
   "cell_type": "markdown",
   "id": "9a57a75c",
   "metadata": {},
   "source": [
    "<b>Scatter plots to explore relationships between variables ( Salary vs. EngagementSurvey)</b>"
   ]
  },
  {
   "cell_type": "code",
   "execution_count": 7,
   "id": "2df277a4",
   "metadata": {},
   "outputs": [
    {
     "ename": "AttributeError",
     "evalue": "'Series' object has no attribute 'values_counts'",
     "output_type": "error",
     "traceback": [
      "\u001b[1;31m---------------------------------------------------------------------------\u001b[0m",
      "\u001b[1;31mAttributeError\u001b[0m                            Traceback (most recent call last)",
      "Input \u001b[1;32mIn [7]\u001b[0m, in \u001b[0;36m<cell line: 1>\u001b[1;34m()\u001b[0m\n\u001b[1;32m----> 1\u001b[0m gender_counts\u001b[38;5;241m=\u001b[39m\u001b[43mdf\u001b[49m\u001b[43m[\u001b[49m\u001b[38;5;124;43m'\u001b[39;49m\u001b[38;5;124;43mSex\u001b[39;49m\u001b[38;5;124;43m'\u001b[39;49m\u001b[43m]\u001b[49m\u001b[38;5;241;43m.\u001b[39;49m\u001b[43mvalues_counts\u001b[49m()\n\u001b[0;32m      2\u001b[0m gender_counts\n",
      "File \u001b[1;32m~\\anaconda3\\lib\\site-packages\\pandas\\core\\generic.py:5575\u001b[0m, in \u001b[0;36mNDFrame.__getattr__\u001b[1;34m(self, name)\u001b[0m\n\u001b[0;32m   5568\u001b[0m \u001b[38;5;28;01mif\u001b[39;00m (\n\u001b[0;32m   5569\u001b[0m     name \u001b[38;5;129;01mnot\u001b[39;00m \u001b[38;5;129;01min\u001b[39;00m \u001b[38;5;28mself\u001b[39m\u001b[38;5;241m.\u001b[39m_internal_names_set\n\u001b[0;32m   5570\u001b[0m     \u001b[38;5;129;01mand\u001b[39;00m name \u001b[38;5;129;01mnot\u001b[39;00m \u001b[38;5;129;01min\u001b[39;00m \u001b[38;5;28mself\u001b[39m\u001b[38;5;241m.\u001b[39m_metadata\n\u001b[0;32m   5571\u001b[0m     \u001b[38;5;129;01mand\u001b[39;00m name \u001b[38;5;129;01mnot\u001b[39;00m \u001b[38;5;129;01min\u001b[39;00m \u001b[38;5;28mself\u001b[39m\u001b[38;5;241m.\u001b[39m_accessors\n\u001b[0;32m   5572\u001b[0m     \u001b[38;5;129;01mand\u001b[39;00m \u001b[38;5;28mself\u001b[39m\u001b[38;5;241m.\u001b[39m_info_axis\u001b[38;5;241m.\u001b[39m_can_hold_identifiers_and_holds_name(name)\n\u001b[0;32m   5573\u001b[0m ):\n\u001b[0;32m   5574\u001b[0m     \u001b[38;5;28;01mreturn\u001b[39;00m \u001b[38;5;28mself\u001b[39m[name]\n\u001b[1;32m-> 5575\u001b[0m \u001b[38;5;28;01mreturn\u001b[39;00m \u001b[38;5;28;43mobject\u001b[39;49m\u001b[38;5;241;43m.\u001b[39;49m\u001b[38;5;21;43m__getattribute__\u001b[39;49m\u001b[43m(\u001b[49m\u001b[38;5;28;43mself\u001b[39;49m\u001b[43m,\u001b[49m\u001b[43m \u001b[49m\u001b[43mname\u001b[49m\u001b[43m)\u001b[49m\n",
      "\u001b[1;31mAttributeError\u001b[0m: 'Series' object has no attribute 'values_counts'"
     ]
    }
   ],
   "source": [
    "gender_counts=df['Sex'].values_counts()\n",
    "gender_counts"
   ]
  },
  {
   "cell_type": "code",
   "execution_count": 8,
   "id": "a30448e8",
   "metadata": {},
   "outputs": [
    {
     "data": {
      "text/plain": [
       "Text(0.5, 1.0, 'Salary vs. Engagement Survey')"
      ]
     },
     "execution_count": 8,
     "metadata": {},
     "output_type": "execute_result"
    },
    {
     "data": {
      "image/png": "[encoded data removed]",
      "text/plain": [
       "<Figure size 864x864 with 1 Axes>"
      ]
     },
     "metadata": {
      "needs_background": "light"
     },
     "output_type": "display_data"
    }
   ],
   "source": [
    "\n",
    "plt.figure(figsize=(12, 12))\n",
    "\n",
    "# Scatter Plot: Salary vs. Engagement Survey\n",
    "plt.subplot(2,2,1)  # Use 1 row, 2 columns, and this is the first plot\n",
    "plt.scatter(df['Salary'], df['EmpSatisfaction'], c=\"blue\")\n",
    "plt.xlabel('Salary')\n",
    "plt.ylabel('Engagement Survey')\n",
    "plt.title('Salary vs. Engagement Survey')\n",
    "\n",
    "\n",
    "\n",
    "#The correlation between latness and perfromance\n",
    "#plt.subplot(2,2,3)\n",
    "\n"
   ]
  },
  {
   "cell_type": "code",
   "execution_count": null,
   "id": "f7e9320c",
   "metadata": {},
   "outputs": [],
   "source": [
    "#The Gender and department\n",
    "plt.subplot(2,2,3)\n",
    "gender_counts = df.groupby('Department')['GenderID'].value_counts().unstack()\n",
    "# Plot the bar chart\n",
    "plt.figure(figsize=(10, 6))\n",
    "gender_counts.plot(kind='bar', stacked=True)\n",
    "plt.title(\"Gender Distribution Across Departments\")\n",
    "plt.xlabel(\"Department\")\n",
    "plt.ylabel(\"Count\")\n",
    "plt.xticks(rotation=0)  # Rotate x-axis labels if needed\n",
    "plt.legend(title=\"Gender\", labels=[\"Male\", \"Female\"])\n",
    "plt.show()\n",
    "\n"
   ]
  },
  {
   "cell_type": "markdown",
   "id": "2a69e1cc",
   "metadata": {},
   "source": [
    "<b>Bar Plot for Department Distribution:</b>"
   ]
  },
  {
   "cell_type": "code",
   "execution_count": null,
   "id": "4aef9cdc",
   "metadata": {},
   "outputs": [],
   "source": [
    "Department_counts = df['Department'].value_counts()\n",
    "Department_counts\n",
    "\n",
    "plt.figure(figsize=(8,6))\n",
    "plt.bar(Department_counts.index, Department_counts.values)\n",
    "plt.title('Bar plot showing distribution of employee in each department')\n",
    "plt.xlabel('Department')\n",
    "plt.xticks(rotation = 45)\n",
    "plt.ylabel('Employees In Each Department')\n",
    "\n",
    "plt.grid(False)\n",
    "plt.show()\n"
   ]
  },
  {
   "cell_type": "markdown",
   "id": "d071de02",
   "metadata": {},
   "source": [
    "<b>Time Series Plot for Last Performance Review Date:</b>"
   ]
  },
  {
   "cell_type": "code",
   "execution_count": null,
   "id": "c7e5bbcc",
   "metadata": {},
   "outputs": [],
   "source": []
  },
  {
   "cell_type": "markdown",
   "id": "e3ad3025",
   "metadata": {},
   "source": [
    "<b>Bar Plot for Performance Score:</b>\n",
    "\n",
    "Create a bar plot to visualize the distribution of performance scores.\n",
    "This will give you insights into how employees are performing. \n",
    "This will give you insights into how employees in each department "
   ]
  },
  {
   "cell_type": "code",
   "execution_count": null,
   "id": "011183a4",
   "metadata": {},
   "outputs": [],
   "source": [
    "\n",
    "\n",
    "# Create a histogram of performance scores\n",
    "plt.figure(figsize=(10, 6))\n",
    "plt.hist(df['PerfScoreID'], bins=4, edgecolor='k', alpha=0.7)\n",
    "plt.title('Performance Score Distribution')\n",
    "plt.xlabel('Performance Score')\n",
    "plt.ylabel('Count')\n",
    "plt.xticks([1, 2, 3, 4])\n",
    "plt.show()\n"
   ]
  },
  {
   "cell_type": "markdown",
   "id": "8931e796",
   "metadata": {},
   "source": [
    "<b>Box Plot for Absences:</b>\n"
   ]
  },
  {
   "cell_type": "code",
   "execution_count": null,
   "id": "6182e0ef",
   "metadata": {},
   "outputs": [],
   "source": []
  },
  {
   "cell_type": "markdown",
   "id": "cd81c065",
   "metadata": {},
   "source": [
    "<b>Find the correlation between lateness and performance</b>"
   ]
  },
  {
   "cell_type": "code",
   "execution_count": null,
   "id": "481a8c07",
   "metadata": {},
   "outputs": [],
   "source": []
  },
  {
   "cell_type": "markdown",
   "id": "041e7f2c",
   "metadata": {},
   "source": [
    "<b>Correlation Heatmap:</b>"
   ]
  },
  {
   "cell_type": "code",
   "execution_count": null,
   "id": "2b8ab41f",
   "metadata": {},
   "outputs": [],
   "source": [
    "xyz_corr_df = df.corr()\n",
    "xyz_corr_df"
   ]
  },
  {
   "cell_type": "code",
   "execution_count": null,
   "id": "02c879c2",
   "metadata": {},
   "outputs": [],
   "source": [
    "xyz_corr_df\n",
    "plt.figure(figsize=(8,6))\n",
    "plt.imshow(xyz_corr_df,cmap=\"Blues\");\n",
    "plt.colorbar();\n",
    "plt.xticks(range(18), xyz_corr_df.index , rotation= 90 , fontdict=dict(fontsize=14 , fontweight=\"bold\"));\n",
    "plt.yticks(range(18), xyz_corr_df.index, fontdict=dict(fontsize=14 , fontweight=\"bold\"));\n",
    "\n",
    "plt.title(\"XYZ Details correlation \")\n"
   ]
  },
  {
   "cell_type": "markdown",
   "id": "374f571e",
   "metadata": {},
   "source": [
    "<b>Questions to answer</b>\n",
    "<br>-Which is the most performant employee, department ,job position\n",
    "<br>-Which is the least performant employee , department ,job position \n",
    "<br>-What are the factors that are common in high performance employee , department \n",
    "<br>-Which recruitment source is the most effective in hiring employees?\n",
    "<br>-Is there a relationship between employee satisfaction and special projects count?\n",
    "<br>-Is there a correlation between salary and performance score?\n",
    "<br>-What is the overall employee turnover rate?\n",
    "<br>-How does the distribution of salaries vary by department?\n",
    "<br>-Which department has the highest average performance score?\n",
    "<br>-How do employees perform on average?\n",
    "<br>-What is the distribution of salaries among employees?\n",
    "<br>-what is the correlation between job hiring source and employee hires \n",
    "<br>-What is the gender diversity in the organization?\n",
    "<br>-How do employees perform on average?\n",
    "<br>-How many employees have participated in diversity job fairs?\n",
    "<br>-What is the overall employee turnover rate?\n",
    "<br>-How satisfied are employees with their jobs?\n",
    "<br>-Which department has the highest number of employees?\n"
   ]
  },
  {
   "cell_type": "code",
   "execution_count": null,
   "id": "238acd54",
   "metadata": {},
   "outputs": [],
   "source": [
    "import seaborn as sns\n",
    "\n",
    "# Calculate the correlation matrix\n",
    "corr_matrix = df[['PerfScoreID', 'Salary', 'EngagementSurvey', 'EmpSatisfaction']].corr()\n",
    "\n",
    "# Create a heatmap of the correlation matrix\n",
    "plt.figure(figsize=(10, 8))\n",
    "sns.heatmap(corr_matrix, annot=True, cmap='coolwarm', square=True, linewidths=0.5)\n",
    "plt.title('Correlation Heatmap')\n",
    "plt.show()\n"
   ]
  },
  {
   "cell_type": "code",
   "execution_count": 14,
   "id": "67cad4e6",
   "metadata": {},
   "outputs": [
    {
     "data": {
      "image/png": "[encoded data removed]",
      "text/plain": [
       "<Figure size 720x432 with 1 Axes>"
      ]
     },
     "metadata": {
      "needs_background": "light"
     },
     "output_type": "display_data"
    }
   ],
   "source": [
    "\n",
    "\n",
    "# Create a histogram of performance scores\n",
    "plt.figure(figsize=(10, 6))\n",
    "plt.hist(df['Salary'], bins=10, edgecolor='k', alpha=0.7)\n",
    "plt.title('Performance Score Distribution')\n",
    "plt.xlabel('Performance Score')\n",
    "plt.ylabel('Count')\n",
    "\n",
    "plt.show()\n"
   ]
  },
  {
   "cell_type": "code",
   "execution_count": null,
   "id": "8bfc2744",
   "metadata": {},
   "outputs": [],
   "source": [
    "df['PerfScoreID'].unique()"
   ]
  },
  {
   "cell_type": "code",
   "execution_count": null,
   "id": "b27855b9",
   "metadata": {},
   "outputs": [],
   "source": []
  },
  {
   "cell_type": "code",
   "execution_count": 9,
   "id": "e27975ed",
   "metadata": {},
   "outputs": [
    {
     "data": {
      "text/plain": [
       "<function matplotlib.pyplot.legend(*args, **kwargs)>"
      ]
     },
     "execution_count": 9,
     "metadata": {},
     "output_type": "execute_result"
    },
    {
     "data": {
      "text/plain": [
       "<Figure size 576x432 with 0 Axes>"
      ]
     },
     "metadata": {},
     "output_type": "display_data"
    },
    {
     "data": {
      "image/png": "[encoded data removed]",
      "text/plain": [
       "<Figure size 432x288 with 1 Axes>"
      ]
     },
     "metadata": {
      "needs_background": "light"
     },
     "output_type": "display_data"
    }
   ],
   "source": [
    "Marital_status = df.groupby('MaritalDesc')['GenderID'].value_counts().unstack()\n",
    "plt.figure(figsize=(8, 6))\n",
    "Marital_status.plot(kind ='bar', stacked=True )\n",
    "#plt.bar(Marital_status.index, Marital_status.values)\n",
    "plt.xlabel('Marital Status')\n",
    "plt.ylabel('Count')\n",
    "plt.title('Marital Status Distribution')\n",
    "plt.xticks(rotation=45)  \n",
    "plt.legend"
   ]
  },
  {
   "cell_type": "code",
   "execution_count": null,
   "id": "a3c2e917",
   "metadata": {},
   "outputs": [],
   "source": []
  }
 ],
 "metadata": {
  "kernelspec": {
   "display_name": "Python 3 (ipykernel)",
   "language": "python",
   "name": "python3"
  },
  "language_info": {
   "codemirror_mode": {
    "name": "ipython",
    "version": 3
   },
   "file_extension": ".py",
   "mimetype": "text/x-python",
   "name": "python",
   "nbconvert_exporter": "python",
   "pygments_lexer": "ipython3",
   "version": "3.9.12"
  }
 },
 "nbformat": 4,
 "nbformat_minor": 5
}
